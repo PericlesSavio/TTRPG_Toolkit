{
 "cells": [
  {
   "cell_type": "code",
   "execution_count": 1,
   "metadata": {},
   "outputs": [],
   "source": [
    "#libraries\n",
    "import pandas as pd\n",
    "import numpy as np"
   ]
  },
  {
   "cell_type": "code",
   "execution_count": 2,
   "metadata": {},
   "outputs": [],
   "source": [
    "weapon = pd.read_csv('weapon.csv')\n",
    "size = pd.read_csv('size.csv')\n",
    "quality = pd.read_csv('quality.csv')"
   ]
  },
  {
   "cell_type": "code",
   "execution_count": 3,
   "metadata": {},
   "outputs": [],
   "source": [
    "#randon\n",
    "d10 = np.random.randint(10)\n",
    "d5  = np.random.randint(5)\n",
    "d3  = np.random.randint(3)"
   ]
  },
  {
   "cell_type": "code",
   "execution_count": null,
   "metadata": {},
   "outputs": [],
   "source": []
  },
  {
   "cell_type": "code",
   "execution_count": 6,
   "metadata": {},
   "outputs": [
    {
     "name": "stdout",
     "output_type": "stream",
     "text": [
      "Rudimentary Short Staff\n",
      "10\n",
      "1-H\n",
      "d4+1meleeBludgeoning\n"
     ]
    }
   ],
   "source": [
    "weapon_name = str(quality.iloc[d5,0] + ' ' + size.iloc[d3,0] + ' ' + weapon.iloc[d10,0]).replace('Normal ', '').replace('Medium ', '')\n",
    "price = str(size.iloc[d3,1] * quality.iloc[d5,2] * 10)\n",
    "damage = size.iloc[d3,2]\n",
    "hand = weapon.iloc[d10,d3+3]\n",
    "bonus = quality.iloc[3,1]\n",
    "range = weapon.iloc[d10,1]\n",
    "damage_type = weapon.iloc[d10,2]\n",
    "\n",
    "if bonus > 0:\n",
    "    bonus_str = ('+' + str(bonus))\n",
    "elif bonus < 0:\n",
    "    bonus_str = str(bonus)\n",
    "else:\n",
    "    bonus_str = ''\n",
    "\n",
    "print(weapon_name + '\\n' + price + '\\n' + hand + '\\n' + damage +  bonus_str + range + damage_type )\n"
   ]
  },
  {
   "cell_type": "code",
   "execution_count": 44,
   "metadata": {},
   "outputs": [
    {
     "data": {
      "text/plain": [
       "'+1'"
      ]
     },
     "execution_count": 44,
     "metadata": {},
     "output_type": "execute_result"
    }
   ],
   "source": [
    "if bonus > 0: bonus_str = ('+' + str(bonus))\n",
    "elif bonus < 0: bonus_str = str(bonus)\n",
    "else: bonus_str = ''\n",
    "\n",
    "bonus_str"
   ]
  },
  {
   "cell_type": "code",
   "execution_count": 20,
   "metadata": {},
   "outputs": [
    {
     "data": {
      "text/plain": [
       "7"
      ]
     },
     "execution_count": 20,
     "metadata": {},
     "output_type": "execute_result"
    }
   ],
   "source": [
    "import random as r\n",
    "r.randint(2, 10)"
   ]
  },
  {
   "cell_type": "code",
   "execution_count": null,
   "metadata": {},
   "outputs": [],
   "source": []
  },
  {
   "cell_type": "code",
   "execution_count": 40,
   "metadata": {},
   "outputs": [],
   "source": [
    "#arrays\n",
    "weapon_type = np.array(['Axe', 'Dagger', 'Hammer', 'Mace', 'Spear', 'Staff', 'Sword', 'Bow', 'Crossbow', 'Sling'])\n",
    "weapon_type_damage = np.array(['Slashing', 'Piercing / Slashing', 'Bludgeoning', 'Bludgeoning', 'Piercing', 'Bludgeoning', 'Slashing', 'Piercing', 'Piercing', 'Bludgeoning'])\n",
    "weapon_range = np.concatenate((np.repeat('Melee', 7), np.repeat('Ranged', 3)), axis=0)\n",
    "weapon_size = np.array(['Short', 'Normal', 'Large'])\n",
    "weapon_quality = np.array(['Rudimentary' , 'Regular', 'Notable', 'Exceptional'])\n",
    "weapon_damage = np.array(['-1', '+0', '+1', '+2'])\n",
    "weapon_die = np.array(['d4', 'd6', 'd8'])\n",
    "weapon_price_size = np.array([1, 5, 10])\n",
    "weapon_price_quality = np.array([1, 5, 25, 100])"
   ]
  },
  {
   "cell_type": "code",
   "execution_count": 55,
   "metadata": {},
   "outputs": [
    {
     "data": {
      "text/plain": [
       "'1-H'"
      ]
     },
     "execution_count": 55,
     "metadata": {},
     "output_type": "execute_result"
    }
   ],
   "source": [
    "matrix = np.array([\n",
    "    ['1-H', '1-H', '1-H', '1-H', '1-H', '1-H', '1-H', '2-H', '2-H', '1-H'],\n",
    "    ['1-H', '1-H', '1-H', '1-H', '1-H', '1-H', '1-H', '2-H', '2-H', '1-H'],\n",
    "    ['2-H', '2-H', '2-H', '2-H', '2-H', '2-H', '2-H', '2-H', '2-H', '2-H']\n",
    "    ])\n",
    "matrix[0][0]"
   ]
  },
  {
   "cell_type": "code",
   "execution_count": 22,
   "metadata": {},
   "outputs": [],
   "source": [
    "#randon\n",
    "d10 = np.random.randint(10)\n",
    "d4  = np.random.randint(4)\n",
    "d3  = np.random.randint(3)"
   ]
  },
  {
   "cell_type": "code",
   "execution_count": 41,
   "metadata": {},
   "outputs": [
    {
     "data": {
      "text/plain": [
       "'Piercing'"
      ]
     },
     "execution_count": 41,
     "metadata": {},
     "output_type": "execute_result"
    }
   ],
   "source": [
    "weapon = str(weapon_quality[d4] + ' ' + weapon_size[d3] + ' ' + weapon_type[d10]).replace('Normal ', '')\n",
    "damage = str(weapon_die[d3] + weapon_damage[d4]).replace('+0', '')\n",
    "price = weapon_price_quality[d4] * weapon_price_size[d3]\n",
    "type_dmg = weapon_type_damage[d10]\n",
    "type_dmg"
   ]
  },
  {
   "cell_type": "code",
   "execution_count": null,
   "metadata": {},
   "outputs": [],
   "source": []
  },
  {
   "cell_type": "code",
   "execution_count": 32,
   "metadata": {},
   "outputs": [],
   "source": [
    "a = weapon_price_size[d3]"
   ]
  },
  {
   "cell_type": "code",
   "execution_count": 33,
   "metadata": {},
   "outputs": [],
   "source": [
    "b = weapon_price_quality[d4]"
   ]
  },
  {
   "cell_type": "code",
   "execution_count": 34,
   "metadata": {},
   "outputs": [
    {
     "data": {
      "text/plain": [
       "1000"
      ]
     },
     "execution_count": 34,
     "metadata": {},
     "output_type": "execute_result"
    }
   ],
   "source": [
    "a*b"
   ]
  },
  {
   "cell_type": "code",
   "execution_count": 9,
   "metadata": {},
   "outputs": [
    {
     "name": "stdout",
     "output_type": "stream",
     "text": [
      "type: Regular Dagger\n",
      "size: Normal\n",
      "quality: Regular\n",
      "range: Melee\n",
      "die: d6\n",
      "price: 5\n",
      "weapon: Regular Normal Dagger\n",
      "\n"
     ]
    }
   ],
   "source": []
  },
  {
   "cell_type": "code",
   "execution_count": 123,
   "metadata": {},
   "outputs": [
    {
     "name": "stdout",
     "output_type": "stream",
     "text": [
      "Flexiple\n"
     ]
    },
    {
     "data": {
      "text/plain": [
       "{98: 112}"
      ]
     },
     "execution_count": 123,
     "metadata": {},
     "output_type": "execute_result"
    }
   ],
   "source": [
    "s = \"Flexible\"\n",
    "x = \"b\"\n",
    "y = \"p\"\n",
    "table = s.maketrans(x, y)\n",
    "print(s.translate(table))\n",
    "table"
   ]
  },
  {
   "cell_type": "code",
   "execution_count": 97,
   "metadata": {},
   "outputs": [
    {
     "data": {
      "text/html": [
       "<div>\n",
       "<style scoped>\n",
       "    .dataframe tbody tr th:only-of-type {\n",
       "        vertical-align: middle;\n",
       "    }\n",
       "\n",
       "    .dataframe tbody tr th {\n",
       "        vertical-align: top;\n",
       "    }\n",
       "\n",
       "    .dataframe thead th {\n",
       "        text-align: right;\n",
       "    }\n",
       "</style>\n",
       "<table border=\"1\" class=\"dataframe\">\n",
       "  <thead>\n",
       "    <tr style=\"text-align: right;\">\n",
       "      <th></th>\n",
       "      <th>weapon</th>\n",
       "    </tr>\n",
       "  </thead>\n",
       "  <tbody>\n",
       "    <tr>\n",
       "      <th>type</th>\n",
       "      <td>Ranged</td>\n",
       "    </tr>\n",
       "    <tr>\n",
       "      <th>range</th>\n",
       "      <td>Sling</td>\n",
       "    </tr>\n",
       "  </tbody>\n",
       "</table>\n",
       "</div>"
      ],
      "text/plain": [
       "       weapon\n",
       "type   Ranged\n",
       "range   Sling"
      ]
     },
     "execution_count": 97,
     "metadata": {},
     "output_type": "execute_result"
    }
   ],
   "source": [
    "df = pd.DataFrame({\n",
    "    weapon_type[d10],\n",
    "    weapon_range[d10]\n",
    "    },\n",
    "    index=['type', 'range'],\n",
    "    columns=['weapon']\n",
    ")\n",
    "df"
   ]
  },
  {
   "cell_type": "code",
   "execution_count": 31,
   "metadata": {},
   "outputs": [
    {
     "data": {
      "text/plain": [
       "dict"
      ]
     },
     "execution_count": 31,
     "metadata": {},
     "output_type": "execute_result"
    }
   ],
   "source": [
    "dados = {'ddd': 1}\n",
    "type(aaa)"
   ]
  },
  {
   "cell_type": "code",
   "execution_count": 63,
   "metadata": {},
   "outputs": [
    {
     "data": {
      "text/html": [
       "<div>\n",
       "<style scoped>\n",
       "    .dataframe tbody tr th:only-of-type {\n",
       "        vertical-align: middle;\n",
       "    }\n",
       "\n",
       "    .dataframe tbody tr th {\n",
       "        vertical-align: top;\n",
       "    }\n",
       "\n",
       "    .dataframe thead th {\n",
       "        text-align: right;\n",
       "    }\n",
       "</style>\n",
       "<table border=\"1\" class=\"dataframe\">\n",
       "  <thead>\n",
       "    <tr style=\"text-align: right;\">\n",
       "      <th></th>\n",
       "      <th>a</th>\n",
       "    </tr>\n",
       "  </thead>\n",
       "  <tbody>\n",
       "    <tr>\n",
       "      <th>0</th>\n",
       "      <td>Axe</td>\n",
       "    </tr>\n",
       "    <tr>\n",
       "      <th>1</th>\n",
       "      <td>Dagger</td>\n",
       "    </tr>\n",
       "    <tr>\n",
       "      <th>2</th>\n",
       "      <td>Hammer</td>\n",
       "    </tr>\n",
       "    <tr>\n",
       "      <th>3</th>\n",
       "      <td>Mace</td>\n",
       "    </tr>\n",
       "    <tr>\n",
       "      <th>4</th>\n",
       "      <td>Spear</td>\n",
       "    </tr>\n",
       "    <tr>\n",
       "      <th>5</th>\n",
       "      <td>Staff</td>\n",
       "    </tr>\n",
       "    <tr>\n",
       "      <th>6</th>\n",
       "      <td>Sword</td>\n",
       "    </tr>\n",
       "    <tr>\n",
       "      <th>7</th>\n",
       "      <td>Bow</td>\n",
       "    </tr>\n",
       "    <tr>\n",
       "      <th>8</th>\n",
       "      <td>Crossbow</td>\n",
       "    </tr>\n",
       "    <tr>\n",
       "      <th>9</th>\n",
       "      <td>Sling</td>\n",
       "    </tr>\n",
       "  </tbody>\n",
       "</table>\n",
       "</div>"
      ],
      "text/plain": [
       "          a\n",
       "0       Axe\n",
       "1    Dagger\n",
       "2    Hammer\n",
       "3      Mace\n",
       "4     Spear\n",
       "5     Staff\n",
       "6     Sword\n",
       "7       Bow\n",
       "8  Crossbow\n",
       "9     Sling"
      ]
     },
     "execution_count": 63,
     "metadata": {},
     "output_type": "execute_result"
    }
   ],
   "source": [
    "z = pd.DataFrame(weapon_type, columns=['a'])\n",
    "z.reset_index(drop=True, inplace=True)\n",
    "z\n"
   ]
  },
  {
   "cell_type": "code",
   "execution_count": 17,
   "metadata": {},
   "outputs": [
    {
     "data": {
      "text/plain": [
       "array([8])"
      ]
     },
     "execution_count": 17,
     "metadata": {},
     "output_type": "execute_result"
    }
   ],
   "source": []
  },
  {
   "cell_type": "code",
   "execution_count": 4,
   "metadata": {},
   "outputs": [
    {
     "data": {
      "text/plain": [
       "array([ 4,  5,  1,  2,  7,  3,  4,  3,  4,  7,  2, 10,  6,  9,  3,  3,  6,\n",
       "        8,  3,  3,  8,  4,  7,  4,  5,  1,  5,  2,  2, 10,  7, 10,  7,  6,\n",
       "        8,  9, 10,  7,  9, 10,  4,  5,  2,  6,  5, 10,  6,  1,  1,  8,  7,\n",
       "        7,  2,  2,  9,  3,  1,  5,  2,  2, 10,  1,  6,  3,  2, 10,  6,  1,\n",
       "        8,  9,  7,  2,  5,  2,  5,  8,  2,  9,  3,  6,  7,  4,  8,  3,  4,\n",
       "        9,  3,  9, 10,  4,  7,  4,  5,  8,  6,  2, 10,  4,  6,  4])"
      ]
     },
     "execution_count": 4,
     "metadata": {},
     "output_type": "execute_result"
    }
   ],
   "source": [
    "d10 = np.random.randint(10, size=1)+1\n",
    "d10"
   ]
  },
  {
   "cell_type": "code",
   "execution_count": 35,
   "metadata": {},
   "outputs": [],
   "source": [
    "weapon_size = pd.DataFrame(['Short', 'Normal', 'Large'], ['d4', 'd6', 'd8'])"
   ]
  },
  {
   "cell_type": "code",
   "execution_count": 49,
   "metadata": {},
   "outputs": [
    {
     "data": {
      "text/plain": [
       "array([ 2,  6, 11])"
      ]
     },
     "execution_count": 49,
     "metadata": {},
     "output_type": "execute_result"
    }
   ],
   "source": [
    "weapon_price"
   ]
  },
  {
   "cell_type": "code",
   "execution_count": 42,
   "metadata": {},
   "outputs": [],
   "source": []
  },
  {
   "cell_type": "code",
   "execution_count": 43,
   "metadata": {},
   "outputs": [
    {
     "data": {
      "text/plain": [
       "[1, 5, 10, 1, 5, 10]"
      ]
     },
     "execution_count": 43,
     "metadata": {},
     "output_type": "execute_result"
    }
   ],
   "source": [
    "weapon_price*2"
   ]
  },
  {
   "cell_type": "code",
   "execution_count": 24,
   "metadata": {},
   "outputs": [],
   "source": [
    "weapon_size = (['Short', 'Normal', 'Large'], ['d4', 'd6', 'd8'])"
   ]
  },
  {
   "cell_type": "code",
   "execution_count": 32,
   "metadata": {},
   "outputs": [
    {
     "ename": "AttributeError",
     "evalue": "'tuple' object has no attribute 'dtypes'",
     "output_type": "error",
     "traceback": [
      "\u001b[1;31m---------------------------------------------------------------------------\u001b[0m",
      "\u001b[1;31mAttributeError\u001b[0m                            Traceback (most recent call last)",
      "\u001b[1;32m<ipython-input-32-be43e81a5f48>\u001b[0m in \u001b[0;36m<module>\u001b[1;34m\u001b[0m\n\u001b[1;32m----> 1\u001b[1;33m \u001b[0mweapon_size\u001b[0m\u001b[1;33m.\u001b[0m\u001b[0mdtypes\u001b[0m\u001b[1;33m(\u001b[0m\u001b[1;33m)\u001b[0m\u001b[1;33m\u001b[0m\u001b[1;33m\u001b[0m\u001b[0m\n\u001b[0m",
      "\u001b[1;31mAttributeError\u001b[0m: 'tuple' object has no attribute 'dtypes'"
     ]
    }
   ],
   "source": [
    "weapon_size.dtypes()"
   ]
  }
 ],
 "metadata": {
  "interpreter": {
   "hash": "5c3c3d78ce5d32b994bb7636a6765349da0b1e0e9ea2acbc0854df0d5a1f822d"
  },
  "kernelspec": {
   "display_name": "Python 3.9.2 64-bit ('rpg_prj': venv)",
   "language": "python",
   "name": "python3"
  },
  "language_info": {
   "codemirror_mode": {
    "name": "ipython",
    "version": 3
   },
   "file_extension": ".py",
   "mimetype": "text/x-python",
   "name": "python",
   "nbconvert_exporter": "python",
   "pygments_lexer": "ipython3",
   "version": "3.9.2"
  },
  "orig_nbformat": 4
 },
 "nbformat": 4,
 "nbformat_minor": 2
}
